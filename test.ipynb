{
  "nbformat": 4,
  "nbformat_minor": 0,
  "metadata": {
    "colab": {
      "name": "0308.ipynb",
      "provenance": [],
      "authorship_tag": "ABX9TyNoznQEMYmoZXhiQ7sZjSlG",
      "include_colab_link": true
    },
    "kernelspec": {
      "name": "python3",
      "display_name": "Python 3"
    }
  },
  "cells": [
    {
      "cell_type": "markdown",
      "metadata": {
        "id": "view-in-github",
        "colab_type": "text"
      },
      "source": [
        "<a href=\"https://colab.research.google.com/github/Yeyeong99/class2021Spring/blob/main/test.ipynb\" target=\"_parent\"><img src=\"https://colab.research.google.com/assets/colab-badge.svg\" alt=\"Open In Colab\"/></a>"
      ]
    },
    {
      "cell_type": "markdown",
      "metadata": {
        "id": "JjX4VUr1UE4h"
      },
      "source": [
        "# 오늘 배운 것 :  \r\n",
        "1. github 계정 만들기\r\n",
        "2. login 해서 repository 만들기<br>\r\n",
        "(이름은 class2021Spring)\r\n",
        "3. 콜라보레이트 깃허브 연동하기\r\n"
      ]
    },
    {
      "cell_type": "code",
      "metadata": {
        "colab": {
          "base_uri": "https://localhost:8080/"
        },
        "id": "LkRbOJ6-UXh_",
        "outputId": "7bbb0bae-b91e-4e69-b614-494b75c99387"
      },
      "source": [
        "a = 1\r\n",
        "b = 1\r\n",
        "c = a+b\r\n",
        "c"
      ],
      "execution_count": 2,
      "outputs": [
        {
          "output_type": "execute_result",
          "data": {
            "text/plain": [
              "2"
            ]
          },
          "metadata": {
            "tags": []
          },
          "execution_count": 2
        }
      ]
    },
    {
      "cell_type": "code",
      "metadata": {
        "id": "MCWz8WjSV0RM"
      },
      "source": [
        ""
      ],
      "execution_count": null,
      "outputs": []
    }
  ]
}