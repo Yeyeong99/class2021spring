{
  "nbformat": 4,
  "nbformat_minor": 0,
  "metadata": {
    "colab": {
      "name": "20210331.ipynb",
      "provenance": [],
      "authorship_tag": "ABX9TyP4wmIEYlTL0BFHDbswt7Fm",
      "include_colab_link": true
    },
    "kernelspec": {
      "name": "python3",
      "display_name": "Python 3"
    },
    "language_info": {
      "name": "python"
    }
  },
  "cells": [
    {
      "cell_type": "markdown",
      "metadata": {
        "id": "view-in-github",
        "colab_type": "text"
      },
      "source": [
        "<a href=\"https://colab.research.google.com/github/Yeyeong99/class2021Spring/blob/main/20210331.ipynb\" target=\"_parent\"><img src=\"https://colab.research.google.com/assets/colab-badge.svg\" alt=\"Open In Colab\"/></a>"
      ]
    },
    {
      "cell_type": "code",
      "metadata": {
        "id": "Y4N_uR2K39L4"
      },
      "source": [
        ""
      ],
      "execution_count": null,
      "outputs": []
    },
    {
      "cell_type": "markdown",
      "metadata": {
        "id": "IPUlBlc739p8"
      },
      "source": [
        "a pitch 174Hz intensity 63.88dB formant 1298Hz  duration 0.493283sec\n",
        "\n",
        "ae pitch 168Hz intensity 61.26dB formant 1970Hz duration 0.712078"
      ]
    }
  ]
}