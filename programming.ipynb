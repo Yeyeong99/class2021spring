{
  "nbformat": 4,
  "nbformat_minor": 0,
  "metadata": {
    "colab": {
      "name": "programming.ipynb",
      "provenance": [],
      "collapsed_sections": [],
      "authorship_tag": "ABX9TyNiX1UmED4Dq8t6BBDjo0HH",
      "include_colab_link": true
    },
    "kernelspec": {
      "name": "python3",
      "display_name": "Python 3"
    }
  },
  "cells": [
    {
      "cell_type": "markdown",
      "metadata": {
        "id": "view-in-github",
        "colab_type": "text"
      },
      "source": [
        "<a href=\"https://colab.research.google.com/github/Yeyeong99/class2021Spring/blob/main/programming.ipynb\" target=\"_parent\"><img src=\"https://colab.research.google.com/assets/colab-badge.svg\" alt=\"Open In Colab\"/></a>"
      ]
    },
    {
      "cell_type": "markdown",
      "metadata": {
        "id": "YpQ_YZJ4iA3t"
      },
      "source": [
        "# 프로그래밍 Language\r\n",
        "### 1. 변수\r\n",
        "단어 + 문법 => 인간 언어 <br>\r\n",
        "사과 = 사과라는 사물을 담음 <br>\r\n",
        "a = 1 <br>\r\n",
        "1, 사과(우변)는 내용 / 좌변 사과는 단어, a는 variable <br>\r\n",
        "a = 1의 경우 <br>\r\n",
        "= 는 오른쪽의 내용을 왼쪽에 assign한다는 의미. \r\n",
        "문자를 넣을 때는 ''를 써줘야함.\r\n",
        "\r\n",
        "### 2. 문법\r\n",
        "컴퓨터 언어에서 문법은 제어문이라고 함.<br>\r\n",
        "하나는 반복문, 하나는 조건문\r\n",
        "1. 반복문 : for\r\n",
        "2. 조건문 : if\r\n",
        "\r\n"
      ]
    },
    {
      "cell_type": "code",
      "metadata": {
        "colab": {
          "base_uri": "https://localhost:8080/"
        },
        "id": "G9cAsK4HkIk6",
        "outputId": "00605b16-cfd3-4cc2-f86c-e52ec11e8d67"
      },
      "source": [
        "#조건문 예시\r\n",
        "a = 1 \r\n",
        "if a ==1:\r\n",
        "  print(3)"
      ],
      "execution_count": 2,
      "outputs": [
        {
          "output_type": "stream",
          "text": [
            "3\n"
          ],
          "name": "stdout"
        }
      ]
    },
    {
      "cell_type": "markdown",
      "metadata": {
        "id": "7bm2aykzkpI7"
      },
      "source": [
        "### 3. 함수 : 입력 -변화-> 출력<br>\r\n",
        "인간의 몸 : 시각적 입력 -> 출력 / 음식물 소화 등 \r\n"
      ]
    },
    {
      "cell_type": "code",
      "metadata": {
        "id": "IUSA-_eQoPr5"
      },
      "source": [
        ""
      ],
      "execution_count": null,
      "outputs": []
    }
  ]
}